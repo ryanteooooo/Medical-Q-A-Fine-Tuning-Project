{
 "cells": [
  {
   "cell_type": "markdown",
   "id": "6d2266d3",
   "metadata": {},
   "source": [
    "# 🏥 Medical Q&A Assistant - Fine-Tuning Learning Journey\n",
    "\n",
    "## Project Overview\n",
    "**Objective**: Fine-tune DistilGPT-2 to answer medical questions and demonstrate understanding of the training process.\n",
    "\n",
    "**Key Focus**: Show that training improves model performance through:\n",
    "- Loss reduction over epochs\n",
    "- Improved evaluation metrics\n",
    "- Better answer quality vs baseline\n",
    "\n",
    "**Dataset**: MedQuAD - Medical Q&A from NIH/CDC\n",
    "\n",
    "---\n",
    "\n",
    "## 🎯 Learning Goals:\n",
    "1. Select appropriate model, dataset, and hyperparameters\n",
    "2. Track training progress with metrics\n",
    "3. Evaluate fine-tuning impact\n",
    "4. Compare before/after performance\n",
    "5. Analyze results with appropriate metrics\n",
    "\n",
    "---"
   ]
  },
  {
   "cell_type": "markdown",
   "id": "c2c711d4",
   "metadata": {},
   "source": [
    "## 1️⃣ Setup & Environment\n",
    "\n",
    "Install libraries and configure GPU for Apple M3 Pro"
   ]
  },
  {
   "cell_type": "code",
   "execution_count": 1,
   "id": "2d2a7d4e",
   "metadata": {},
   "outputs": [],
   "source": [
    "# Install required libraries\n",
    "!pip install -q transformers datasets torch accelerate evaluate rouge-score nltk lm-eval==0.4.2"
   ]
  },
  {
   "cell_type": "code",
   "execution_count": 2,
   "id": "94b23b2d",
   "metadata": {},
   "outputs": [
    {
     "name": "stdout",
     "output_type": "stream",
     "text": [
      "📁 Working directory: /Users/ryanteooo/Documents/GitHub/GENAI-Assignment-1/Medical_QA_Simplified\n",
      "   All outputs will be saved here!\n",
      "\n",
      "PyTorch version: 2.8.0\n",
      "Transformers version: 4.55.4\n",
      "✅ Using Apple M3 Pro GPU (Metal Performance Shaders)\n",
      "   Expected speedup: 3-5x vs CPU\n",
      "\n",
      "Device: mps\n",
      "\n",
      "📊 Run #10 initialized (auto-detected)\n",
      "   Previous runs found: 9\n",
      "   All history saved to: training_history/\n",
      "   Remember to update TRAINING_RUNS_LOG.md after training!\n"
     ]
    }
   ],
   "source": [
    "# Import libraries\n",
    "import torch\n",
    "import transformers\n",
    "import pandas as pd\n",
    "import numpy as np\n",
    "import matplotlib.pyplot as plt\n",
    "import os\n",
    "import json\n",
    "from datetime import datetime\n",
    "from datasets import load_dataset, Dataset, DatasetDict\n",
    "from transformers import (\n",
    "    AutoTokenizer,\n",
    "    AutoModelForCausalLM,\n",
    "    TrainingArguments,\n",
    "    Trainer,\n",
    "    DataCollatorForLanguageModeling\n",
    ")\n",
    "import evaluate\n",
    "from sklearn.model_selection import train_test_split\n",
    "import warnings\n",
    "warnings.filterwarnings('ignore')\n",
    "\n",
    "# Set random seeds for reproducibility\n",
    "np.random.seed(42)\n",
    "torch.manual_seed(42)\n",
    "\n",
    "# Get the notebook directory (all outputs will be saved here)\n",
    "NOTEBOOK_DIR = os.path.dirname(os.path.abspath(\"__file__\")) if \"__file__\" in dir() else os.getcwd()\n",
    "print(f\"📁 Working directory: {NOTEBOOK_DIR}\")\n",
    "print(f\"   All outputs will be saved here!\\n\")\n",
    "\n",
    "print(f\"PyTorch version: {torch.__version__}\")\n",
    "print(f\"Transformers version: {transformers.__version__}\")\n",
    "\n",
    "# Configure device - Enable MPS for Apple M3 Pro GPU!\n",
    "if torch.backends.mps.is_available():\n",
    "    device = torch.device(\"mps\")\n",
    "    print(\"✅ Using Apple M3 Pro GPU (Metal Performance Shaders)\")\n",
    "    print(\"   Expected speedup: 3-5x vs CPU\")\n",
    "elif torch.cuda.is_available():\n",
    "    device = torch.device(\"cuda\")\n",
    "    print(\"✅ Using CUDA GPU\")\n",
    "else:\n",
    "    device = torch.device(\"cpu\")\n",
    "    print(\"⚠️ Using CPU (slower)\")\n",
    "\n",
    "print(f\"\\nDevice: {device}\")\n",
    "\n",
    "# Initialize run tracking - AUTO INCREMENT!\n",
    "# Check existing runs in training_history folder\n",
    "history_dir = './training_history'\n",
    "if os.path.exists(history_dir):\n",
    "    existing_runs = [f for f in os.listdir(history_dir) if f.startswith('training_summary_run')]\n",
    "    if existing_runs:\n",
    "        # Extract run numbers and get the max\n",
    "        run_numbers = [int(f.split('run')[1].split('.')[0]) for f in existing_runs]\n",
    "        next_run = max(run_numbers) + 1\n",
    "    else:\n",
    "        next_run = 1\n",
    "else:\n",
    "    next_run = 1\n",
    "\n",
    "RUN_CONFIG = {\n",
    "    \"run_number\": next_run,  # Auto-incremented based on history!\n",
    "    \"date\": datetime.now().strftime(\"%Y-%m-%d %H:%M:%S\"),\n",
    "    \"device\": str(device),\n",
    "    \"pytorch_version\": torch.__version__,\n",
    "    \"transformers_version\": transformers.__version__\n",
    "}\n",
    "\n",
    "print(f\"\\n📊 Run #{RUN_CONFIG['run_number']} initialized (auto-detected)\")\n",
    "print(f\"   Previous runs found: {next_run - 1}\")\n",
    "print(f\"   All history saved to: training_history/\")\n",
    "print(f\"   Remember to update TRAINING_RUNS_LOG.md after training!\")"
   ]
  },
  {
   "cell_type": "markdown",
   "id": "465d5da6",
   "metadata": {},
   "source": [
    "## 2️⃣ Load & Prepare Dataset\n",
    "\n",
    "Load MedQuAD dataset and create train/validation/test splits"
   ]
  },
  {
   "cell_type": "code",
   "execution_count": 3,
   "id": "d39069bf",
   "metadata": {},
   "outputs": [
    {
     "name": "stdout",
     "output_type": "stream",
     "text": [
      "Loading MedQuAD dataset...\n",
      "✅ Dataset loaded: 16407 examples\n",
      "\n",
      "📝 Sample Q&A:\n",
      "================================================================================\n",
      "Question: Who is at risk for Lymphocytic Choriomeningitis (LCM)? ?\n",
      "Answer: LCMV infections can occur after exposure to fresh urine, droppings, saliva, or nesting materials from infected rodents.  Transmission may also occur when these materials are directly introduced into b...\n",
      "================================================================================\n",
      "✅ Dataset loaded: 16407 examples\n",
      "\n",
      "📝 Sample Q&A:\n",
      "================================================================================\n",
      "Question: Who is at risk for Lymphocytic Choriomeningitis (LCM)? ?\n",
      "Answer: LCMV infections can occur after exposure to fresh urine, droppings, saliva, or nesting materials from infected rodents.  Transmission may also occur when these materials are directly introduced into b...\n",
      "================================================================================\n"
     ]
    }
   ],
   "source": [
    "# Load dataset\n",
    "print(\"Loading MedQuAD dataset...\")\n",
    "dataset = load_dataset(\"keivalya/MedQuad-MedicalQnADataset\")\n",
    "\n",
    "# Standardize column names\n",
    "def standardize_columns(example):\n",
    "    return {\n",
    "        'question': example.get('Question') or example.get('question'),\n",
    "        'answer': example.get('Answer') or example.get('answer')\n",
    "    }\n",
    "\n",
    "dataset = dataset.map(standardize_columns, remove_columns=dataset['train'].column_names)\n",
    "\n",
    "print(f\"✅ Dataset loaded: {len(dataset['train'])} examples\")\n",
    "\n",
    "# Show sample\n",
    "print(\"\\n📝 Sample Q&A:\")\n",
    "print(\"=\"*80)\n",
    "example = dataset['train'][0]\n",
    "print(f\"Question: {example['question']}\")\n",
    "print(f\"Answer: {example['answer'][:200]}...\")\n",
    "print(\"=\"*80)"
   ]
  },
  {
   "cell_type": "code",
   "execution_count": 4,
   "id": "898bc38f",
   "metadata": {},
   "outputs": [
    {
     "name": "stdout",
     "output_type": "stream",
     "text": [
      "✅ Sampled 10000 rows\n",
      "\n",
      "📊 Dataset splits:\n",
      "   Training: 7000 (70%) = 7,000 samples\n",
      "   Validation: 1500 (15%) = 1,500 samples\n",
      "   Test: 1500 (15%) = 1,500 samples\n"
     ]
    }
   ],
   "source": [
    "# Create subset for training \n",
    "# PARAMETER TO ADJUST:\n",
    "SUBSET_SIZE = 10000\n",
    "\n",
    "# OPTIMIZED: Keep as HuggingFace Dataset\n",
    "indices = np.random.choice(len(dataset['train']), SUBSET_SIZE, replace=False)\n",
    "subset = dataset['train'].select(indices.tolist())  \n",
    "\n",
    "print(f\"✅ Sampled {len(subset)} rows\")\n",
    "\n",
    "# Split into train/validation/test \n",
    "from datasets import DatasetDict\n",
    "\n",
    "train_size = int(0.7 * len(subset))\n",
    "val_size = int(0.15 * len(subset))\n",
    "\n",
    "# Create indices for splits\n",
    "all_indices = list(range(len(subset)))\n",
    "np.random.shuffle(all_indices)\n",
    "\n",
    "train_indices = all_indices[:train_size]\n",
    "val_indices = all_indices[train_size:train_size + val_size]\n",
    "test_indices = all_indices[train_size + val_size:]\n",
    "\n",
    "# Create splits\n",
    "train_dataset_raw = subset.select(train_indices)\n",
    "val_dataset_raw = subset.select(val_indices)\n",
    "test_dataset_raw = subset.select(test_indices)\n",
    "\n",
    "# Convert to DataFrames ONLY for displaying/processing (minimal overhead)\n",
    "train_df = train_dataset_raw.to_pandas()\n",
    "val_df = val_dataset_raw.to_pandas()\n",
    "test_df = test_dataset_raw.to_pandas()\n",
    "\n",
    "print(f\"\\n📊 Dataset splits:\")\n",
    "print(f\"   Training: {len(train_df)} (70%) = 7,000 samples\")\n",
    "print(f\"   Validation: {len(val_df)} (15%) = 1,500 samples\")\n",
    "print(f\"   Test: {len(test_df)} (15%) = 1,500 samples\")"
   ]
  },
  {
   "cell_type": "code",
   "execution_count": 5,
   "id": "ff0f1ff7",
   "metadata": {},
   "outputs": [
    {
     "name": "stdout",
     "output_type": "stream",
     "text": [
      "✅ Data formatted and ready!\n",
      "\n",
      "📝 Training example format:\n",
      "Question: What is (are) Orofaciodigital syndrome 1 ?\n",
      "Answer: Orofaciodigital syndrome 1 (OFD1), also called orofaciodigital syndrome type 1, is a condition that affects the development of the oral cav...\n"
     ]
    }
   ],
   "source": [
    "# Format data for decoder model\n",
    "def format_qa_pair(question, answer):\n",
    "    \"\"\"Format Q&A for causal language modeling\"\"\"\n",
    "    return f\"Question: {question}\\nAnswer: {answer}<|endoftext|>\"\n",
    "\n",
    "train_df['text'] = train_df.apply(lambda x: format_qa_pair(x['question'], x['answer']), axis=1)\n",
    "val_df['text'] = val_df.apply(lambda x: format_qa_pair(x['question'], x['answer']), axis=1)\n",
    "test_df['text'] = test_df.apply(lambda x: format_qa_pair(x['question'], x['answer']), axis=1)\n",
    "\n",
    "# Convert to HuggingFace Dataset\n",
    "train_dataset = Dataset.from_pandas(train_df[['text']])\n",
    "val_dataset = Dataset.from_pandas(val_df[['text']])\n",
    "test_dataset = Dataset.from_pandas(test_df[['text']])\n",
    "\n",
    "processed_dataset = DatasetDict({\n",
    "    'train': train_dataset,\n",
    "    'validation': val_dataset,\n",
    "    'test': test_dataset\n",
    "})\n",
    "\n",
    "print(\"✅ Data formatted and ready!\")\n",
    "print(f\"\\n📝 Training example format:\\n{train_df['text'].iloc[0][:200]}...\")"
   ]
  },
  {
   "cell_type": "markdown",
   "id": "404976b9",
   "metadata": {},
   "source": [
    "## 3️⃣ Model Selection & Setup\n",
    "\n",
    "**Model Choice: DistilGPT-2**\n",
    "\n",
    "**Why DistilGPT-2?**\n",
    "- ✅ Decoder architecture (perfect for text generation)\n",
    "- ✅ 82M parameters (fast to train on M3 Pro)\n",
    "- ✅ Pre-trained on general text (good starting point)\n",
    "- ✅ Efficient: 40% smaller than GPT-2, keeps 97% performance"
   ]
  },
  {
   "cell_type": "code",
   "execution_count": 6,
   "id": "1649c2a6",
   "metadata": {},
   "outputs": [
    {
     "name": "stdout",
     "output_type": "stream",
     "text": [
      "Loading distilgpt2...\n",
      "✅ Model loaded!\n",
      "   Parameters: 81,912,576\n",
      "✅ Model loaded!\n",
      "   Parameters: 81,912,576\n"
     ]
    }
   ],
   "source": [
    "# Load model and tokenizer\n",
    "MODEL_NAME = \"distilgpt2\"\n",
    "\n",
    "print(f\"Loading {MODEL_NAME}...\")\n",
    "tokenizer = AutoTokenizer.from_pretrained(MODEL_NAME)\n",
    "tokenizer.pad_token = tokenizer.eos_token\n",
    "\n",
    "model = AutoModelForCausalLM.from_pretrained(MODEL_NAME)\n",
    "\n",
    "print(f\"✅ Model loaded!\")\n",
    "print(f\"   Parameters: {model.num_parameters():,}\")"
   ]
  },
  {
   "cell_type": "code",
   "execution_count": 7,
   "id": "ab08e98c",
   "metadata": {},
   "outputs": [
    {
     "name": "stdout",
     "output_type": "stream",
     "text": [
      "Tokenizing with MAX_LENGTH=256\n"
     ]
    },
    {
     "data": {
      "application/vnd.jupyter.widget-view+json": {
       "model_id": "3c9d4cdc45cd49a6bf3253435d3e2cc0",
       "version_major": 2,
       "version_minor": 0
      },
      "text/plain": [
       "Tokenizing:   0%|          | 0/7000 [00:00<?, ? examples/s]"
      ]
     },
     "metadata": {},
     "output_type": "display_data"
    },
    {
     "data": {
      "application/vnd.jupyter.widget-view+json": {
       "model_id": "2c6b65f019114553ad0ab0676fe4d2c4",
       "version_major": 2,
       "version_minor": 0
      },
      "text/plain": [
       "Tokenizing:   0%|          | 0/1500 [00:00<?, ? examples/s]"
      ]
     },
     "metadata": {},
     "output_type": "display_data"
    },
    {
     "data": {
      "application/vnd.jupyter.widget-view+json": {
       "model_id": "6c36e4ee5fe04ebd8bcdd7bb4dd4f391",
       "version_major": 2,
       "version_minor": 0
      },
      "text/plain": [
       "Tokenizing:   0%|          | 0/1500 [00:00<?, ? examples/s]"
      ]
     },
     "metadata": {},
     "output_type": "display_data"
    },
    {
     "name": "stdout",
     "output_type": "stream",
     "text": [
      "✅ Tokenization complete!\n",
      "   Max sequence length: 256 tokens\n"
     ]
    }
   ],
   "source": [
    "# Tokenize datasets\n",
    "MAX_LENGTH = 256 \n",
    "\n",
    "def tokenize_function(examples):\n",
    "    return tokenizer(\n",
    "        examples['text'],\n",
    "        truncation=True,\n",
    "        max_length=MAX_LENGTH,\n",
    "        padding='max_length',\n",
    "        return_tensors=None\n",
    "    )\n",
    "\n",
    "print(f\"Tokenizing with MAX_LENGTH={MAX_LENGTH}\")\n",
    "tokenized_datasets = processed_dataset.map(\n",
    "    tokenize_function,\n",
    "    batched=True,\n",
    "    remove_columns=['text'],\n",
    "    desc=\"Tokenizing\"\n",
    ")\n",
    "\n",
    "print(\"✅ Tokenization complete!\")\n",
    "print(f\"   Max sequence length: {MAX_LENGTH} tokens\")"
   ]
  },
  {
   "cell_type": "markdown",
   "id": "3275e1a6",
   "metadata": {},
   "source": [
    "## 4️⃣ Baseline Performance (Before Training)\n",
    "\n",
    "Test the base model BEFORE fine-tuning to compare later"
   ]
  },
  {
   "cell_type": "code",
   "execution_count": 8,
   "id": "4afbf95b",
   "metadata": {},
   "outputs": [
    {
     "name": "stdout",
     "output_type": "stream",
     "text": [
      "✅ Generation function ready!\n"
     ]
    }
   ],
   "source": [
    "# Function to generate answers\n",
    "def generate_answer(model, question, max_length=200, temperature=0.7):\n",
    "    \"\"\"Generate answer to medical question\"\"\"\n",
    "    prompt = f\"Question: {question}\\nAnswer:\"\n",
    "    inputs = tokenizer(prompt, return_tensors=\"pt\").to(model.device)\n",
    "    \n",
    "    with torch.no_grad():\n",
    "        outputs = model.generate(\n",
    "            **inputs,\n",
    "            max_length=max_length,\n",
    "            temperature=temperature,\n",
    "            do_sample=True,\n",
    "            top_k=50,\n",
    "            top_p=0.95,\n",
    "            pad_token_id=tokenizer.eos_token_id,\n",
    "            eos_token_id=tokenizer.eos_token_id,\n",
    "        )\n",
    "    \n",
    "    generated_text = tokenizer.decode(outputs[0], skip_special_tokens=True)\n",
    "    if \"Answer:\" in generated_text:\n",
    "        return generated_text.split(\"Answer:\")[1].strip()\n",
    "    return generated_text\n",
    "\n",
    "print(\"✅ Generation function ready!\")"
   ]
  },
  {
   "cell_type": "code",
   "execution_count": 9,
   "id": "cecd9f59",
   "metadata": {},
   "outputs": [
    {
     "name": "stdout",
     "output_type": "stream",
     "text": [
      "🧪 BASELINE PERFORMANCE (Before Fine-Tuning)\n",
      "================================================================================\n",
      "\n",
      "❓ Question: How many people are affected by Costello syndrome ?\n",
      "\n",
      "✅ Actual Answer (from dataset): This condition is very rare; it probably affects 200 to 300 people worldwide. Reported estimates of Costello syndrome prevalence range from 1 in 300,000 to 1 in 1.25 million people....\n",
      "\n",
      "🤖 BASE MODEL Answer (before training):\n",
      "1,100\n",
      "Number of people affected by Costello syndrome is approximately 1,000\n",
      "Number of people affected by Costello syndrome is approximately 1,000\n",
      "Number of people affected by Costello syndrome is approximately 1,000\n",
      "Number of people affected by Costello syndrome is approximately 1,000\n",
      "Number of people affected by Costello syndrome is approximately 1,000\n",
      "Number of people affected by Costello syndrome is approximately 1,000\n",
      "Number of people affected by Costello syndrome is approximately 1,000\n",
      "Number of people affected by Costello syndrome is approximately 1,000\n",
      "Number of people affected by Costello syndrome is approximately 1,000\n",
      "Number of people affected by Costello syndrome is approximately 1,000\n",
      "Number of people affected by Costello syndrome is approximately 1,000\n",
      "Number of people affected by Costello syndrome is approximately 1,000\n",
      "Number of people affected by Costello syndrome is approximately 1,000\n",
      "\n",
      "================================================================================\n",
      "💡 Notice: Base model may give generic/poor answers\n",
      "================================================================================\n",
      "1,100\n",
      "Number of people affected by Costello syndrome is approximately 1,000\n",
      "Number of people affected by Costello syndrome is approximately 1,000\n",
      "Number of people affected by Costello syndrome is approximately 1,000\n",
      "Number of people affected by Costello syndrome is approximately 1,000\n",
      "Number of people affected by Costello syndrome is approximately 1,000\n",
      "Number of people affected by Costello syndrome is approximately 1,000\n",
      "Number of people affected by Costello syndrome is approximately 1,000\n",
      "Number of people affected by Costello syndrome is approximately 1,000\n",
      "Number of people affected by Costello syndrome is approximately 1,000\n",
      "Number of people affected by Costello syndrome is approximately 1,000\n",
      "Number of people affected by Costello syndrome is approximately 1,000\n",
      "Number of people affected by Costello syndrome is approximately 1,000\n",
      "Number of people affected by Costello syndrome is approximately 1,000\n",
      "\n",
      "================================================================================\n",
      "💡 Notice: Base model may give generic/poor answers\n",
      "================================================================================\n"
     ]
    }
   ],
   "source": [
    "# Test baseline model (before training)\n",
    "print(\"🧪 BASELINE PERFORMANCE (Before Fine-Tuning)\")\n",
    "print(\"=\"*80)\n",
    "\n",
    "baseline_test_question = test_df.iloc[0]\n",
    "question = baseline_test_question['question']\n",
    "actual_answer = baseline_test_question['answer']\n",
    "\n",
    "print(f\"\\n❓ Question: {question}\")\n",
    "print(f\"\\n✅ Actual Answer (from dataset): {actual_answer[:200]}...\")\n",
    "print(f\"\\n🤖 BASE MODEL Answer (before training):\")\n",
    "\n",
    "baseline_answer = generate_answer(model, question, max_length=200, temperature=0.7)\n",
    "print(baseline_answer)\n",
    "\n",
    "print(\"\\n\" + \"=\"*80)\n",
    "print(\"💡 Notice: Base model may give generic/poor answers\")\n",
    "print(\"=\"*80)\n",
    "\n",
    "# Save baseline answer for later comparison\n",
    "baseline_comparison = {\n",
    "    'question': question,\n",
    "    'actual': actual_answer,\n",
    "    'baseline': baseline_answer\n",
    "}"
   ]
  },
  {
   "cell_type": "markdown",
   "id": "9afb56f3",
   "metadata": {},
   "source": [
    "## 5️⃣ Training Configuration\n",
    "\n",
    "Set up training with carefully chosen hyperparameters"
   ]
  },
  {
   "cell_type": "code",
   "execution_count": 10,
   "id": "1d725cf4",
   "metadata": {},
   "outputs": [
    {
     "name": "stdout",
     "output_type": "stream",
     "text": [
      "⚙️ RUN 10 Configuration - LARGER DATASET WITH HIGHER LR!\n",
      "================================================================================\n",
      "✅ TrainingArguments created!\n",
      "Initializing data collator...\n",
      "✅ Data collator ready!\n",
      "\n",
      "📊 CONFIGURATION SUMMARY\n",
      "================================================================================\n",
      "   Dataset: 7000 samples (Run 10: 10,000 total)\n",
      "   Epochs: 12 ✅ (Extended training)\n",
      "   Learning Rate: 7e-05 ✅ (Higher LR for faster learning)\n",
      "   Batch Size: 20 → Effective: 80 = 80 ✅ PROVEN!\n",
      "   Max Length: 256 tokens ✅ PROVEN OPTIMAL!\n",
      "   Generation Temp: 0.3 ✅ Balanced precision\n",
      "   Warmup: ratio=0.1 (dynamic)\n",
      "   Gradient Clipping: 1.0\n",
      "   LR Scheduler: Cosine decay\n",
      "   Device: mps (MPS - M3 Pro GPU)\n",
      "================================================================================\n",
      "\n",
      "✅ Configuration complete! Ready for training.\n"
     ]
    }
   ],
   "source": [
    "# Configure training arguments\n",
    "OUTPUT_DIR = \"./model_checkpoints\"  # Save in notebook directory\n",
    "\n",
    "EPOCHS = 12              \n",
    "LEARNING_RATE = 7e-5       \n",
    "BATCH_SIZE = 20           \n",
    "GENERATION_TEMP = 0.3      \n",
    "\n",
    "print(\"⚙️ RUN 10 Configuration - LARGER DATASET WITH HIGHER LR!\")\n",
    "print(\"=\"*80)\n",
    "\n",
    "training_args = TrainingArguments(\n",
    "    output_dir=OUTPUT_DIR,\n",
    "    \n",
    "    # Training parameters \n",
    "    num_train_epochs=EPOCHS,\n",
    "    per_device_train_batch_size=BATCH_SIZE,\n",
    "    per_device_eval_batch_size=BATCH_SIZE,\n",
    "    gradient_accumulation_steps=4,   \n",
    "    \n",
    "    # Learning rate \n",
    "    learning_rate=LEARNING_RATE,\n",
    "    weight_decay=0.01,               # Regularization\n",
    "    warmup_ratio=0.1,                # Dynamic warmup (10% of training)\n",
    "    lr_scheduler_type=\"cosine\",      # Smooth decay\n",
    "    max_grad_norm=1.0,               # Gradient clipping for stability\n",
    "    \n",
    "    # Evaluation \n",
    "    eval_strategy=\"steps\",\n",
    "    eval_steps=100,                  # Check every 100 steps\n",
    "    save_strategy=\"steps\",\n",
    "    save_steps=200,                  # Save checkpoints\n",
    "    save_total_limit=3,              # Keep only best 3\n",
    "    load_best_model_at_end=True,\n",
    "    metric_for_best_model=\"eval_loss\",\n",
    "    greater_is_better=False,\n",
    "    \n",
    "    # Logging\n",
    "    logging_dir=\"./logs\",\n",
    "    logging_steps=50,\n",
    "    report_to=\"none\",\n",
    "    \n",
    "    # Performance \n",
    "    use_mps_device=True if str(device) == \"mps\" else False,\n",
    "    fp16=False,  # MPS doesn't support fp16\n",
    "    dataloader_num_workers=0,        # Prevent MPS issues\n",
    "    \n",
    "    # Reproducibility\n",
    "    seed=42,\n",
    ")\n",
    "\n",
    "print(\"✅ TrainingArguments created!\")\n",
    "\n",
    "# OPTIMIZED: Create data collator AFTER printing (shows progress)\n",
    "print(\"Initializing data collator...\")\n",
    "data_collator = DataCollatorForLanguageModeling(\n",
    "    tokenizer=tokenizer,\n",
    "    mlm=False  # Causal LM, not masked\n",
    ")\n",
    "print(\"✅ Data collator ready!\")\n",
    "\n",
    "# Log configuration\n",
    "RUN_CONFIG.update({\n",
    "    \"dataset_size\": len(train_df),\n",
    "    \"epochs\": EPOCHS,\n",
    "    \"learning_rate\": LEARNING_RATE,\n",
    "    \"batch_size\": BATCH_SIZE,\n",
    "    \"effective_batch_size\": BATCH_SIZE * training_args.gradient_accumulation_steps,\n",
    "    \"generation_temperature\": GENERATION_TEMP,\n",
    "    \"max_length\": MAX_LENGTH,\n",
    "    \"weight_decay\": training_args.weight_decay,\n",
    "    \"warmup_ratio\": 0.1,\n",
    "    \"lr_scheduler\": \"cosine\",\n",
    "    \"gradient_clip\": training_args.max_grad_norm\n",
    "})\n",
    "\n",
    "print(\"\\n📊 CONFIGURATION SUMMARY\")\n",
    "print(\"=\"*80)\n",
    "print(f\"   Dataset: {len(train_df)} samples (Run 10: 10,000 total)\")\n",
    "print(f\"   Epochs: {EPOCHS} ✅ (Extended training)\")\n",
    "print(f\"   Learning Rate: {LEARNING_RATE} ✅ (Higher LR for faster learning)\")\n",
    "print(f\"   Batch Size: {BATCH_SIZE} → Effective: {BATCH_SIZE * 4} = 80 ✅ PROVEN!\")\n",
    "print(f\"   Max Length: {MAX_LENGTH} tokens ✅ PROVEN OPTIMAL!\")\n",
    "print(f\"   Generation Temp: {GENERATION_TEMP} ✅ Balanced precision\")\n",
    "print(f\"   Warmup: ratio=0.1 (dynamic)\")\n",
    "print(f\"   Gradient Clipping: {training_args.max_grad_norm}\")\n",
    "print(f\"   LR Scheduler: Cosine decay\")\n",
    "print(f\"   Device: {device} (MPS - M3 Pro GPU)\")\n",
    "print(\"=\"*80)\n",
    "\n",
    "\n",
    "print(\"\\n✅ Configuration complete! Ready for training.\")"
   ]
  },
  {
   "cell_type": "markdown",
   "id": "8c9adf6f",
   "metadata": {},
   "source": [
    "## 6️⃣ Training Process\n",
    "\n",
    "Watch the model learn! Loss should decrease over time."
   ]
  },
  {
   "cell_type": "code",
   "execution_count": 11,
   "id": "af478377",
   "metadata": {},
   "outputs": [
    {
     "name": "stdout",
     "output_type": "stream",
     "text": [
      "Trainer initialized with early stopping!\n",
      "\n",
      "Will stop if no improvement for 4 evaluation checkpoints\n",
      "\n",
      "Starting training...\n",
      "================================================================================\n"
     ]
    }
   ],
   "source": [
    "# Add early stopping callback\n",
    "from transformers import EarlyStoppingCallback\n",
    "\n",
    "# Initialize trainer with early stopping\n",
    "trainer = Trainer(\n",
    "    model=model,\n",
    "    args=training_args,\n",
    "    train_dataset=tokenized_datasets['train'],\n",
    "    eval_dataset=tokenized_datasets['validation'],\n",
    "    data_collator=data_collator,\n",
    "    callbacks=[EarlyStoppingCallback(early_stopping_patience=4)]\n",
    ")\n",
    "\n",
    "print(\"Trainer initialized with early stopping!\")\n",
    "print(\"\\nWill stop if no improvement for 4 evaluation checkpoints\")\n",
    "print(\"\\nStarting training...\")\n",
    "print(\"=\"*80)"
   ]
  },
  {
   "cell_type": "code",
   "execution_count": 12,
   "id": "34caa5a2",
   "metadata": {},
   "outputs": [
    {
     "name": "stderr",
     "output_type": "stream",
     "text": [
      "`loss_type=None` was set in the config but it is unrecognised.Using the default loss: `ForCausalLMLoss`.\n"
     ]
    },
    {
     "data": {
      "text/html": [
       "\n",
       "    <div>\n",
       "      \n",
       "      <progress value='1056' max='1056' style='width:300px; height:20px; vertical-align: middle;'></progress>\n",
       "      [1056/1056 1:26:52, Epoch 12/12]\n",
       "    </div>\n",
       "    <table border=\"1\" class=\"dataframe\">\n",
       "  <thead>\n",
       " <tr style=\"text-align: left;\">\n",
       "      <th>Step</th>\n",
       "      <th>Training Loss</th>\n",
       "      <th>Validation Loss</th>\n",
       "    </tr>\n",
       "  </thead>\n",
       "  <tbody>\n",
       "    <tr>\n",
       "      <td>100</td>\n",
       "      <td>2.351400</td>\n",
       "      <td>2.119525</td>\n",
       "    </tr>\n",
       "    <tr>\n",
       "      <td>200</td>\n",
       "      <td>1.993300</td>\n",
       "      <td>1.943052</td>\n",
       "    </tr>\n",
       "    <tr>\n",
       "      <td>300</td>\n",
       "      <td>1.867500</td>\n",
       "      <td>1.861331</td>\n",
       "    </tr>\n",
       "    <tr>\n",
       "      <td>400</td>\n",
       "      <td>1.768300</td>\n",
       "      <td>1.808017</td>\n",
       "    </tr>\n",
       "    <tr>\n",
       "      <td>500</td>\n",
       "      <td>1.708900</td>\n",
       "      <td>1.774275</td>\n",
       "    </tr>\n",
       "    <tr>\n",
       "      <td>600</td>\n",
       "      <td>1.671500</td>\n",
       "      <td>1.752160</td>\n",
       "    </tr>\n",
       "    <tr>\n",
       "      <td>700</td>\n",
       "      <td>1.641100</td>\n",
       "      <td>1.739690</td>\n",
       "    </tr>\n",
       "    <tr>\n",
       "      <td>800</td>\n",
       "      <td>1.634400</td>\n",
       "      <td>1.732015</td>\n",
       "    </tr>\n",
       "    <tr>\n",
       "      <td>900</td>\n",
       "      <td>1.603700</td>\n",
       "      <td>1.727833</td>\n",
       "    </tr>\n",
       "    <tr>\n",
       "      <td>1000</td>\n",
       "      <td>1.611600</td>\n",
       "      <td>1.726338</td>\n",
       "    </tr>\n",
       "  </tbody>\n",
       "</table><p>"
      ],
      "text/plain": [
       "<IPython.core.display.HTML object>"
      ]
     },
     "metadata": {},
     "output_type": "display_data"
    },
    {
     "name": "stderr",
     "output_type": "stream",
     "text": [
      "There were missing keys in the checkpoint model loaded: ['lm_head.weight'].\n"
     ]
    },
    {
     "name": "stdout",
     "output_type": "stream",
     "text": [
      "================================================================================\n",
      "✅ Training complete!\n",
      "================================================================================\n"
     ]
    }
   ],
   "source": [
    "# Train the model!\n",
    "training_result = trainer.train()\n",
    "\n",
    "print(\"=\"*80)\n",
    "print(\"✅ Training complete!\")\n",
    "print(\"=\"*80)"
   ]
  },
  {
   "cell_type": "markdown",
   "id": "8b5b1677",
   "metadata": {},
   "source": [
    "## 7️⃣ Training Visualization\n",
    "\n",
    "Visualize the learning process - loss should decrease!"
   ]
  },
  {
   "cell_type": "code",
   "execution_count": 13,
   "id": "8b3c11f7",
   "metadata": {},
   "outputs": [
    {
     "name": "stdout",
     "output_type": "stream",
     "text": [
      "✅ Extracted training history:\n",
      "   Training steps logged: 21\n",
      "   Evaluation checkpoints: 10\n"
     ]
    }
   ],
   "source": [
    "# Extract training history\n",
    "log_history = trainer.state.log_history\n",
    "\n",
    "train_logs = [log for log in log_history if 'loss' in log and 'eval_loss' not in log]\n",
    "eval_logs = [log for log in log_history if 'eval_loss' in log]\n",
    "\n",
    "train_steps = [log['step'] for log in train_logs if 'step' in log]\n",
    "train_losses = [log['loss'] for log in train_logs if 'loss' in log]\n",
    "\n",
    "eval_steps = [log['step'] for log in eval_logs if 'step' in log]\n",
    "eval_losses = [log['eval_loss'] for log in eval_logs if 'eval_loss' in log]\n",
    "\n",
    "# Also get epoch info for eval\n",
    "eval_epochs = [log['epoch'] for log in eval_logs if 'epoch' in log]\n",
    "\n",
    "print(f\"✅ Extracted training history:\")\n",
    "print(f\"   Training steps logged: {len(train_logs)}\")\n",
    "print(f\"   Evaluation checkpoints: {len(eval_logs)}\")"
   ]
  },
  {
   "cell_type": "code",
   "execution_count": 14,
   "id": "1f8bfafd",
   "metadata": {},
   "outputs": [
    {
     "data": {
      "image/png": "[encoded data removed]",
      "text/plain": [
       "<Figure size 1600x600 with 2 Axes>"
      ]
     },
     "metadata": {},
     "output_type": "display_data"
    },
    {
     "name": "stdout",
     "output_type": "stream",
     "text": [
      "\n",
      "✅ Training curves saved as 'training_curves.png'\n",
      "\n",
      "💡 Analysis:\n",
      "   ✅ If loss decreases → Model is learning!\n",
      "   ✅ If validation tracks training → No overfitting\n",
      "   ⚠️  If validation increases → May be overfitting\n"
     ]
    }
   ],
   "source": [
    "# Plot training curves\n",
    "fig, (ax1, ax2) = plt.subplots(1, 2, figsize=(16, 6))\n",
    "\n",
    "# Plot 1: Loss over steps\n",
    "ax1.plot(train_steps, train_losses, label='Training Loss', marker='o', markersize=4, linewidth=2)\n",
    "ax1.plot(eval_steps, eval_losses, label='Validation Loss', marker='s', markersize=6, linewidth=2)\n",
    "ax1.set_xlabel('Training Steps', fontsize=12, fontweight='bold')\n",
    "ax1.set_ylabel('Loss', fontsize=12, fontweight='bold')\n",
    "ax1.set_title('Training Progress: Loss Over Time', fontsize=14, fontweight='bold')\n",
    "ax1.legend(fontsize=11)\n",
    "ax1.grid(True, alpha=0.3)\n",
    "\n",
    "# Plot 2: Loss by epoch (clearer view)\n",
    "if eval_epochs:\n",
    "    ax2.plot(eval_epochs, eval_losses, marker='o', markersize=8, linewidth=2, color='green')\n",
    "    ax2.set_xlabel('Epoch', fontsize=12, fontweight='bold')\n",
    "    ax2.set_ylabel('Validation Loss', fontsize=12, fontweight='bold')\n",
    "    ax2.set_title('Validation Loss by Epoch', fontsize=14, fontweight='bold')\n",
    "    ax2.grid(True, alpha=0.3)\n",
    "    \n",
    "    # Add value labels\n",
    "    for epoch, loss in zip(eval_epochs, eval_losses):\n",
    "        ax2.text(epoch, loss, f'{loss:.3f}', ha='center', va='bottom', fontweight='bold')\n",
    "\n",
    "plt.tight_layout()\n",
    "plt.savefig('training_curves.png', dpi=300, bbox_inches='tight')\n",
    "plt.show()\n",
    "\n",
    "print(\"\\n✅ Training curves saved as 'training_curves.png'\")\n",
    "print(\"\\n💡 Analysis:\")\n",
    "print(\"   ✅ If loss decreases → Model is learning!\")\n",
    "print(\"   ✅ If validation tracks training → No overfitting\")\n",
    "print(\"   ⚠️  If validation increases → May be overfitting\")"
   ]
  },
  {
   "cell_type": "markdown",
   "id": "49342a09",
   "metadata": {},
   "source": [
    "## 8️⃣ Evaluation Metrics\n",
    "\n",
    "Measure performance using appropriate metrics"
   ]
  },
  {
   "cell_type": "code",
   "execution_count": 15,
   "id": "e72dbdc2",
   "metadata": {},
   "outputs": [
    {
     "name": "stdout",
     "output_type": "stream",
     "text": [
      "📊 Evaluating on TEST SET (never seen during training)...\n"
     ]
    },
    {
     "data": {
      "text/html": [
       "\n",
       "    <div>\n",
       "      \n",
       "      <progress value='75' max='75' style='width:300px; height:20px; vertical-align: middle;'></progress>\n",
       "      [75/75 00:25]\n",
       "    </div>\n",
       "    "
      ],
      "text/plain": [
       "<IPython.core.display.HTML object>"
      ]
     },
     "metadata": {},
     "output_type": "display_data"
    },
    {
     "name": "stdout",
     "output_type": "stream",
     "text": [
      "\n",
      "✅ TEST SET RESULTS:\n",
      "================================================================================\n",
      "   eval_loss: 1.7069\n",
      "   eval_runtime: 26.1256\n",
      "   eval_samples_per_second: 57.4150\n",
      "   eval_steps_per_second: 2.8710\n",
      "   epoch: 12.0000\n",
      "\n",
      "📈 Perplexity: 5.51\n",
      "\n",
      "💡 Perplexity Interpretation:\n",
      "   - Measures how 'surprised' the model is by the test data\n",
      "   - Lower = Better (model predicts text more confidently)\n",
      "   - Range: 1 to infinity\n",
      "================================================================================\n"
     ]
    }
   ],
   "source": [
    "# Evaluate on test set\n",
    "print(\"📊 Evaluating on TEST SET (never seen during training)...\")\n",
    "test_results = trainer.evaluate(tokenized_datasets['test'])\n",
    "\n",
    "print(\"\\n✅ TEST SET RESULTS:\")\n",
    "print(\"=\"*80)\n",
    "for key, value in test_results.items():\n",
    "    print(f\"   {key}: {value:.4f}\")\n",
    "\n",
    "# Calculate perplexity\n",
    "import math\n",
    "test_perplexity = math.exp(test_results['eval_loss'])\n",
    "\n",
    "print(f\"\\n📈 Perplexity: {test_perplexity:.2f}\")\n",
    "print(\"\\n💡 Perplexity Interpretation:\")\n",
    "print(\"   - Measures how 'surprised' the model is by the test data\")\n",
    "print(\"   - Lower = Better (model predicts text more confidently)\")\n",
    "print(\"   - Range: 1 to infinity\")\n",
    "print(\"=\"*80)"
   ]
  },
  {
   "cell_type": "code",
   "execution_count": 16,
   "id": "1e39a62c",
   "metadata": {},
   "outputs": [
    {
     "name": "stdout",
     "output_type": "stream",
     "text": [
      "\n",
      "📊 Calculating ROUGE Scores...\n",
      "(Measures overlap between generated and actual answers)\n",
      "\n",
      "✅ ROUGE SCORES:\n",
      "================================================================================\n",
      "   ROUGE-1: 0.3005  (word overlap)\n",
      "   ROUGE-2: 0.1324  (2-word phrase overlap)\n",
      "   ROUGE-L: 0.2166  (longest common sequence)\n",
      "================================================================================\n",
      "\n",
      "💡 ROUGE Interpretation:\n",
      "   - Range: 0 to 1 (higher = better)\n",
      "   - >0.3 = Good similarity to reference answers\n",
      "   - >0.5 = Strong similarity\n",
      "\n",
      "✅ ROUGE SCORES:\n",
      "================================================================================\n",
      "   ROUGE-1: 0.3005  (word overlap)\n",
      "   ROUGE-2: 0.1324  (2-word phrase overlap)\n",
      "   ROUGE-L: 0.2166  (longest common sequence)\n",
      "================================================================================\n",
      "\n",
      "💡 ROUGE Interpretation:\n",
      "   - Range: 0 to 1 (higher = better)\n",
      "   - >0.3 = Good similarity to reference answers\n",
      "   - >0.5 = Strong similarity\n"
     ]
    }
   ],
   "source": [
    "# ROUGE scores - measure answer similarity\n",
    "print(\"\\n📊 Calculating ROUGE Scores...\")\n",
    "print(\"(Measures overlap between generated and actual answers)\")\n",
    "\n",
    "rouge = evaluate.load('rouge')\n",
    "\n",
    "NUM_SAMPLES = 50  # Test on 50 examples\n",
    "predictions = []\n",
    "references = []\n",
    "\n",
    "for i in range(min(NUM_SAMPLES, len(test_df))):\n",
    "    test_example = test_df.iloc[i]\n",
    "    question = test_example['question']\n",
    "    actual_answer = test_example['answer']\n",
    "    \n",
    "    generated = generate_answer(model, question, max_length=200, temperature=0.7)\n",
    "    \n",
    "    predictions.append(generated)\n",
    "    references.append(actual_answer)\n",
    "\n",
    "rouge_results = rouge.compute(predictions=predictions, references=references)\n",
    "\n",
    "print(\"\\n✅ ROUGE SCORES:\")\n",
    "print(\"=\"*80)\n",
    "print(f\"   ROUGE-1: {rouge_results['rouge1']:.4f}  (word overlap)\")\n",
    "print(f\"   ROUGE-2: {rouge_results['rouge2']:.4f}  (2-word phrase overlap)\")\n",
    "print(f\"   ROUGE-L: {rouge_results['rougeL']:.4f}  (longest common sequence)\")\n",
    "print(\"=\"*80)\n",
    "print(\"\\n💡 ROUGE Interpretation:\")\n",
    "print(\"   - Range: 0 to 1 (higher = better)\")\n",
    "print(\"   - >0.3 = Good similarity to reference answers\")\n",
    "print(\"   - >0.5 = Strong similarity\")"
   ]
  },
  {
   "cell_type": "markdown",
   "id": "2f4d642e",
   "metadata": {},
   "source": [
    "## 9️⃣ Before/After Comparison\n",
    "\n",
    "Compare baseline vs fine-tuned model on same question"
   ]
  },
  {
   "cell_type": "code",
   "execution_count": 17,
   "id": "c1164a00",
   "metadata": {},
   "outputs": [
    {
     "name": "stdout",
     "output_type": "stream",
     "text": [
      "\n",
      "🔬 BEFORE/AFTER FINE-TUNING COMPARISON\n",
      "================================================================================\n",
      "\n",
      "❓ Question: How many people are affected by Costello syndrome ?\n",
      "\n",
      "📚 REFERENCE ANSWER (from dataset - the 'correct' answer):\n",
      "This condition is very rare; it probably affects 200 to 300 people worldwide. Reported estimates of Costello syndrome prevalence range from 1 in 300,000 to 1 in 1.25 million people....\n",
      "\n",
      "❌ BEFORE TRAINING (base DistilGPT-2 model):\n",
      "1,100\n",
      "Number of people affected by Costello syndrome is approximately 1,000\n",
      "Number of people affected by Costello syndrome is approximately 1,000\n",
      "Number of people affected by Costello syndrome is approximately 1,000\n",
      "Number of people affected by Costello syndrome is approximately 1,000\n",
      "Number of peop\n",
      "\n",
      "✅ AFTER FINE-TUNING (your trained model):\n",
      "Costello syndrome is a rare disorder; its prevalence is unknown. The prevalence of the condition is unknown. It is thought to be a rare condition; however, it is thought to be a rare disorder. The prevalence of Costello syndrome is unknown. It is thought to be a rare condition; however, it is though\n",
      "\n",
      "================================================================================\n",
      "💡 Analysis: Is the fine-tuned answer more medical/relevant than the base model?\n",
      "================================================================================\n",
      "Costello syndrome is a rare disorder; its prevalence is unknown. The prevalence of the condition is unknown. It is thought to be a rare condition; however, it is thought to be a rare disorder. The prevalence of Costello syndrome is unknown. It is thought to be a rare condition; however, it is though\n",
      "\n",
      "================================================================================\n",
      "💡 Analysis: Is the fine-tuned answer more medical/relevant than the base model?\n",
      "================================================================================\n"
     ]
    }
   ],
   "source": [
    "# Compare baseline vs fine-tuned on the same question\n",
    "print(\"\\n🔬 BEFORE/AFTER FINE-TUNING COMPARISON\")\n",
    "print(\"=\"*80)\n",
    "\n",
    "print(f\"\\n❓ Question: {baseline_comparison['question']}\")\n",
    "\n",
    "print(f\"\\n📚 REFERENCE ANSWER (from dataset - the 'correct' answer):\")\n",
    "print(f\"{baseline_comparison['actual'][:300]}...\")\n",
    "\n",
    "print(f\"\\n❌ BEFORE TRAINING (base DistilGPT-2 model):\")\n",
    "print(f\"{baseline_comparison['baseline'][:300]}\")\n",
    "\n",
    "print(f\"\\n✅ AFTER FINE-TUNING (your trained model):\")\n",
    "finetuned_answer = generate_answer(model, baseline_comparison['question'], \n",
    "                                   max_length=200, temperature=GENERATION_TEMP)\n",
    "print(finetuned_answer[:300])\n",
    "\n",
    "print(\"\\n\" + \"=\"*80)\n",
    "print(\"💡 Analysis: Is the fine-tuned answer more medical/relevant than the base model?\")\n",
    "print(\"=\"*80)"
   ]
  },
  {
   "cell_type": "code",
   "execution_count": 18,
   "id": "d1237f13",
   "metadata": {},
   "outputs": [
    {
     "name": "stdout",
     "output_type": "stream",
     "text": [
      "\n",
      "📝 EXAMPLES: Fine-Tuned Model vs Reference Answers\n",
      "================================================================================\n",
      "(Testing on held-out test set - model has NEVER seen these during training)\n",
      "\n",
      "--- Example 1 ---\n",
      "\n",
      "❓ Question: How many people are affected by Costello syndrome ?\n",
      "\n",
      "📚 Reference Answer (from dataset): This condition is very rare; it probably affects 200 to 300 people worldwide. Reported estimates of Costello syndrome prevalence range from 1 in 300,000 to 1 in 1.25 million people....\n",
      "\n",
      "🤖 Fine-Tuned Model Output: Costello syndrome is a rare disorder; its prevalence is unknown. It is estimated to affect 1 in 100,000 people worldwide. The condition is thought to be a rare condition, although its prevalence is unknown. It is thought to be a rare condition, altho\n",
      "\n",
      "--------------------------------------------------------------------------------\n",
      "\n",
      "--- Example 2 ---\n",
      "\n",
      "❓ Question: What are the treatments for phosphoglycerate dehydrogenase deficiency ?\n",
      "\n",
      "📚 Reference Answer (from dataset): These resources address the diagnosis or management of phosphoglycerate dehydrogenase deficiency:  - Genetic Testing Registry: Phosphoglycerate dehydrogenase deficiency  - Seattle Children's Hospital: Epilepsy Symptoms and Diagnosis   These resources...\n",
      "\n",
      "🤖 Fine-Tuned Model Output: Costello syndrome is a rare disorder; its prevalence is unknown. It is estimated to affect 1 in 100,000 people worldwide. The condition is thought to be a rare condition, although its prevalence is unknown. It is thought to be a rare condition, altho\n",
      "\n",
      "--------------------------------------------------------------------------------\n",
      "\n",
      "--- Example 2 ---\n",
      "\n",
      "❓ Question: What are the treatments for phosphoglycerate dehydrogenase deficiency ?\n",
      "\n",
      "📚 Reference Answer (from dataset): These resources address the diagnosis or management of phosphoglycerate dehydrogenase deficiency:  - Genetic Testing Registry: Phosphoglycerate dehydrogenase deficiency  - Seattle Children's Hospital: Epilepsy Symptoms and Diagnosis   These resources...\n",
      "\n",
      "🤖 Fine-Tuned Model Output: These resources address the diagnosis or management of phosphoglycerate dehydrogenase deficiency:  - Gene Review: Gene Review: Phosphoglycerate Deficiency  - Genetic Testing Registry: Phosphoglycerate dehydrogenase deficiency  - MedlinePlus Encyclope\n",
      "\n",
      "--------------------------------------------------------------------------------\n",
      "\n",
      "--- Example 3 ---\n",
      "\n",
      "❓ Question: What is (are) HIV/AIDS and Infections ?\n",
      "\n",
      "📚 Reference Answer (from dataset): Having HIV/AIDS weakens your body's immune system. Your immune system normally fights germs that enter your body. When HIV/AIDS makes it weak, it can't fight germs well. This can lead to serious infections that don't often affect healthy people. Thes...\n",
      "\n",
      "🤖 Fine-Tuned Model Output: These resources address the diagnosis or management of phosphoglycerate dehydrogenase deficiency:  - Gene Review: Gene Review: Phosphoglycerate Deficiency  - Genetic Testing Registry: Phosphoglycerate dehydrogenase deficiency  - MedlinePlus Encyclope\n",
      "\n",
      "--------------------------------------------------------------------------------\n",
      "\n",
      "--- Example 3 ---\n",
      "\n",
      "❓ Question: What is (are) HIV/AIDS and Infections ?\n",
      "\n",
      "📚 Reference Answer (from dataset): Having HIV/AIDS weakens your body's immune system. Your immune system normally fights germs that enter your body. When HIV/AIDS makes it weak, it can't fight germs well. This can lead to serious infections that don't often affect healthy people. Thes...\n",
      "\n",
      "🤖 Fine-Tuned Model Output: HIV/AIDS is a disease in which the body cannot fight infection. It is a disease in which the body cannot fight infection. It is a disease in which the body cannot fight infection. It is a disease in which the body cannot fight infection.      HIV/AID\n",
      "\n",
      "--------------------------------------------------------------------------------\n",
      "\n",
      "💡 These examples show if the model learned to answer like the training data!\n",
      "   Good signs: Medical terminology, relevant information, appropriate structure\n",
      "\n",
      "🤖 Fine-Tuned Model Output: HIV/AIDS is a disease in which the body cannot fight infection. It is a disease in which the body cannot fight infection. It is a disease in which the body cannot fight infection. It is a disease in which the body cannot fight infection.      HIV/AID\n",
      "\n",
      "--------------------------------------------------------------------------------\n",
      "\n",
      "💡 These examples show if the model learned to answer like the training data!\n",
      "   Good signs: Medical terminology, relevant information, appropriate structure\n"
     ]
    }
   ],
   "source": [
    "# Show more examples from test set\n",
    "print(\"\\n📝 EXAMPLES: Fine-Tuned Model vs Reference Answers\")\n",
    "print(\"=\"*80)\n",
    "print(\"(Testing on held-out test set - model has NEVER seen these during training)\")\n",
    "\n",
    "num_examples = 3\n",
    "for i in range(num_examples):\n",
    "    test_example = test_df.iloc[i]\n",
    "    question = test_example['question']\n",
    "    reference_answer = test_example['answer']\n",
    "    \n",
    "    print(f\"\\n--- Example {i+1} ---\")\n",
    "    print(f\"\\n❓ Question: {question}\")\n",
    "    print(f\"\\n📚 Reference Answer (from dataset): {reference_answer[:250]}...\")\n",
    "    \n",
    "    generated = generate_answer(model, question, max_length=200, temperature=GENERATION_TEMP)\n",
    "    print(f\"\\n🤖 Fine-Tuned Model Output: {generated[:250]}\")\n",
    "    print(\"\\n\" + \"-\"*80)\n",
    "\n",
    "print(\"\\n💡 These examples show if the model learned to answer like the training data!\")\n",
    "print(\"   Good signs: Medical terminology, relevant information, appropriate structure\")"
   ]
  },
  {
   "cell_type": "code",
   "execution_count": 19,
   "id": "66ccdc72",
   "metadata": {},
   "outputs": [
    {
     "name": "stdout",
     "output_type": "stream",
     "text": [
      "💾 Saving model to ./final_model...\n",
      "✅ Model saved to: /Users/ryanteooo/Documents/GitHub/GENAI-Assignment-1/Medical_QA_Simplified/final_model\n",
      "✅ Model saved to: /Users/ryanteooo/Documents/GitHub/GENAI-Assignment-1/Medical_QA_Simplified/final_model\n"
     ]
    }
   ],
   "source": [
    "# Save the model first\n",
    "FINAL_MODEL_DIR = \"./final_model\"  # Save in notebook directory\n",
    "print(f\"💾 Saving model to {FINAL_MODEL_DIR}...\")\n",
    "trainer.save_model(FINAL_MODEL_DIR)\n",
    "tokenizer.save_pretrained(FINAL_MODEL_DIR)\n",
    "print(f\"✅ Model saved to: {os.path.abspath(FINAL_MODEL_DIR)}\")"
   ]
  },
  {
   "cell_type": "markdown",
   "id": "7cca6c14",
   "metadata": {},
   "source": [
    "## 1️⃣1️⃣ Summary & Insights\n",
    "\n",
    "Key findings from the fine-tuning process"
   ]
  },
  {
   "cell_type": "code",
   "execution_count": 20,
   "id": "9b2f79cc",
   "metadata": {},
   "outputs": [
    {
     "name": "stdout",
     "output_type": "stream",
     "text": [
      "\n",
      "✅ Summary saved to: /Users/ryanteooo/Documents/GitHub/GENAI-Assignment-1/Medical_QA_Simplified/training_history/training_summary_run10.txt\n",
      "✅ Results JSON saved to: /Users/ryanteooo/Documents/GitHub/GENAI-Assignment-1/Medical_QA_Simplified/training_history/results_run10.json\n",
      "\n",
      "📁 All training history stored in: /Users/ryanteooo/Documents/GitHub/GENAI-Assignment-1/Medical_QA_Simplified/training_history/\n",
      "   - training_summary_run10.txt\n",
      "   - results_run10.json\n",
      "\n",
      "💡 Each run creates new files - you'll have a complete history!\n"
     ]
    }
   ],
   "source": [
    "# Create training_history folder if it doesn't exist\n",
    "history_dir = './training_history'\n",
    "os.makedirs(history_dir, exist_ok=True)\n",
    "\n",
    "# Create comprehensive training summary\n",
    "summary = f\"\"\"\n",
    "\n",
    "================================================================================\n",
    "           MEDICAL Q&A FINE-TUNING - RUN #{RUN_CONFIG['run_number']} SUMMARY\n",
    "================================================================================\n",
    "\n",
    "📅 RUN INFORMATION:\n",
    "   Date: {RUN_CONFIG['date']}\n",
    "   Device: {RUN_CONFIG['device']}\n",
    "   PyTorch: {RUN_CONFIG['pytorch_version']}\n",
    "   Transformers: {RUN_CONFIG['transformers_version']}\n",
    "\n",
    "🎯 OBJECTIVE:\n",
    "   Fine-tune DistilGPT-2 to answer medical questions and demonstrate\n",
    "   understanding of the training process.\n",
    "\n",
    "📋 MODEL & DATA CHOICES:\n",
    "\n",
    "   Model: DistilGPT-2 (82M parameters)\n",
    "   Why? - Decoder architecture for text generation\n",
    "        - Efficient for training on M3 Pro\n",
    "        - Pre-trained on general text\n",
    "\n",
    "   Dataset: MedQuAD (Medical Q&A from NIH/CDC)\n",
    "   Size: {len(train_df)} training / {len(val_df)} validation / {len(test_df)} test\n",
    "   Why? - High-quality medical information\n",
    "        - Q&A format perfect for instruction tuning\n",
    "        - Diverse medical topics\n",
    "\n",
    "⚙️ HYPERPARAMETERS (Run #{RUN_CONFIG['run_number']}):\n",
    "   \n",
    "   Learning Rate: {LEARNING_RATE}\n",
    "   Batch Size: {BATCH_SIZE} (effective: {BATCH_SIZE * 4} with accumulation)\n",
    "   Epochs: {EPOCHS}\n",
    "   Max Length: {MAX_LENGTH} tokens\n",
    "   Weight Decay: {training_args.weight_decay}\n",
    "   Warmup Ratio: {training_args.warmup_ratio}\n",
    "   Generation Temperature: {GENERATION_TEMP}\n",
    "\n",
    "📊 TRAINING RESULTS:\n",
    "\n",
    "   Training Time: {training_result.metrics['train_runtime']/60:.2f} minutes\n",
    "   Final Training Loss: {training_result.metrics['train_loss']:.4f}\n",
    "   Samples/Second: {training_result.metrics['train_samples_per_second']:.2f}\n",
    "\n",
    "   ✅ Loss decreased over training → Model learned!\n",
    "\n",
    "🎯 EVALUATION METRICS:\n",
    "\n",
    "   Test Loss: {test_results['eval_loss']:.4f}\n",
    "   Perplexity: {test_perplexity:.2f}\n",
    "   → Lower perplexity = better predictions\n",
    "\n",
    "   ROUGE-1: {rouge_results['rouge1']:.4f}\n",
    "   ROUGE-2: {rouge_results['rouge2']:.4f}\n",
    "   ROUGE-L: {rouge_results['rougeL']:.4f}\n",
    "   → Measures similarity to reference answers\n",
    "\n",
    "📈 KEY INSIGHTS:\n",
    "\n",
    "1. Training Progress:\n",
    "   ✅ Loss decreased consistently across epochs\n",
    "   ✅ Model converged successfully\n",
    "\n",
    "2. Performance Metrics:\n",
    "   • Perplexity of {test_perplexity:.2f} indicates good language modeling\n",
    "   • ROUGE-1 of {rouge_results['rouge1']:.4f} shows baseline similarity to references\n",
    "\n",
    "3. What I Learned About Training:\n",
    "   • Proper data splitting prevents leakage (train/val/test)\n",
    "   • Monitoring validation loss prevents overfitting\n",
    "   • Hyperparameters significantly impact training\n",
    "   • Loss curves visualize the learning process\n",
    "   • Multiple metrics give fuller picture of performance\n",
    "\n",
    "4. Model Limitations:\n",
    "   ⚠️ Should not replace professional medical advice\n",
    "   ⚠️ May occasionally generate incorrect information\n",
    "   ⚠️ Limited by training data diversity ({len(train_df)} examples)\n",
    "   ⚠️ Context length restricted to {MAX_LENGTH} tokens\n",
    "\n",
    "================================================================================\n",
    "                          END OF SUMMARY - RUN #{RUN_CONFIG['run_number']}\n",
    "================================================================================\n",
    "\n",
    "\"\"\"\n",
    "\n",
    "# Save to file in training_history directory with run number\n",
    "summary_path = os.path.join(history_dir, f'training_summary_run{RUN_CONFIG[\"run_number\"]}.txt')\n",
    "with open(summary_path, 'w') as f:\n",
    "    f.write(summary)\n",
    "\n",
    "# Also save results to JSON for easy tracking\n",
    "results_data = {\n",
    "    \"run_number\": RUN_CONFIG[\"run_number\"],\n",
    "    \"date\": RUN_CONFIG[\"date\"],\n",
    "    \"hyperparameters\": {\n",
    "        \"dataset_size\": len(train_df),\n",
    "        \"epochs\": EPOCHS,\n",
    "        \"learning_rate\": LEARNING_RATE,\n",
    "        \"batch_size\": BATCH_SIZE,\n",
    "        \"generation_temperature\": GENERATION_TEMP,\n",
    "        \"max_length\": MAX_LENGTH\n",
    "    },\n",
    "    \"results\": {\n",
    "        \"final_train_loss\": training_result.metrics['train_loss'],\n",
    "        \"test_loss\": test_results['eval_loss'],\n",
    "        \"perplexity\": test_perplexity,\n",
    "        \"rouge_1\": rouge_results['rouge1'],\n",
    "        \"rouge_2\": rouge_results['rouge2'],\n",
    "        \"rouge_l\": rouge_results['rougeL'],\n",
    "        \"training_time_minutes\": training_result.metrics['train_runtime']/60\n",
    "    }\n",
    "}\n",
    "\n",
    "results_path = os.path.join(history_dir, f'results_run{RUN_CONFIG[\"run_number\"]}.json')\n",
    "with open(results_path, 'w') as f:\n",
    "    json.dump(results_data, f, indent=2)\n",
    "\n",
    "print(f\"\\n✅ Summary saved to: {os.path.abspath(summary_path)}\")\n",
    "print(f\"✅ Results JSON saved to: {os.path.abspath(results_path)}\")\n",
    "print(f\"\\n📁 All training history stored in: {os.path.abspath(history_dir)}/\")\n",
    "print(f\"   - training_summary_run{RUN_CONFIG['run_number']}.txt\")\n",
    "print(f\"   - results_run{RUN_CONFIG['run_number']}.json\")\n",
    "print(f\"\\n💡 Each run creates new files - you'll have a complete history!\")"
   ]
  }
 ],
 "metadata": {
  "kernelspec": {
   "display_name": ".venv",
   "language": "python",
   "name": "python3"
  },
  "language_info": {
   "codemirror_mode": {
    "name": "ipython",
    "version": 3
   },
   "file_extension": ".py",
   "mimetype": "text/x-python",
   "name": "python",
   "nbconvert_exporter": "python",
   "pygments_lexer": "ipython3",
   "version": "3.13.7"
  }
 },
 "nbformat": 4,
 "nbformat_minor": 5
}
